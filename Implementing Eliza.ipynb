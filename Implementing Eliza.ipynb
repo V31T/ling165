{
 "cells": [
  {
   "cell_type": "markdown",
   "metadata": {},
   "source": [
    "\n",
    "\n",
    "# Implementing Eliza\n",
    "## HW 2, Part 2 --- Basic Script\n",
    "\n",
    "The basic script provided as part of the assignment takes care\n",
    "of input and output, gives one example regular expression to illustrate re.sub.\n",
    "\n",
    "This script currently only copies whatever the imput of the user is, and switches the phrase \"You are\" with \"Eliza is\" as a example.\n",
    "\n",
    "**Your job:** Extend the *reply()* function with regular expressions that handle Eliza's response for different types of user input. The specifications are provided in the assignent description."
   ]
  },
  {
   "cell_type": "code",
   "execution_count": null,
   "metadata": {},
   "outputs": [],
   "source": [
    "# This cell is necessary to use reg expressions\n",
    "#always run it first\n",
    "\n",
    "# Style hint: Always import all the libraries that you need at the beginning of your code\n",
    "# This is to make sure you don't forget any dependency\n",
    "# And makes the dependencies needed by your code immediately visible to a second observer\n",
    "\n",
    "import re"
   ]
  },
  {
   "cell_type": "code",
   "execution_count": null,
   "metadata": {},
   "outputs": [],
   "source": [
    "# This is the cell to modify for the assignment\n",
    "\n",
    "def reply(string):\n",
    "    '''\n",
    "    This function modifies the user input passed as string\n",
    "    based on a series of regular expressions.\n",
    "    Returns the modified string as Eliza response.\n",
    "    '''\n",
    "    \n",
    "    # Example\n",
    "    # Replace all instances of \"you are\" with \"Eliza is\":\n",
    "    # You don't want to keep this, as Eliza should not talk in 3rd person\n",
    "    # This is here to show you how to use re.sub to switch pronouns\n",
    "    \n",
    "    string = re.sub(r'[Yy]ou are','Eliza is',string)\n",
    "    \n",
    "    # Reminder: re.sub takes three arguments: \n",
    "    # a regular expression to search for in the string,\n",
    "    # a replacement string to replace it with, and the string to\n",
    "    # operate on.  It returns a new string, which the above expression\n",
    "    # is storing in the variable 'string'.\n",
    "    \n",
    "    # ADD your reg expressions here\n",
    "\n",
    "\n",
    "    # Return the reply\n",
    "    # add \"Eliza:\"\" in front of the reply to distinguish it from the user input\n",
    "    return 'Elizalike: '+ string\n",
    "\n",
    "\n",
    "def main():\n",
    "    '''\n",
    "    Main function.\n",
    "    Requests the user input.\n",
    "    Calls the reply function.\n",
    "    Decides whether to keep chatting or to stop based on user input.\n",
    "    '''\n",
    "    \n",
    "    print(\"Elizalike: Hello, I am Elizalike!  Talk to me! (Or type \\\"bye\\\" to quit.)\\n\")\n",
    "    #set a flag to control the loop\n",
    "    flag = True\n",
    "    \n",
    "    # Start a loop\n",
    "    # Stops only when the user wants to\n",
    "    while flag == True:\n",
    "\n",
    "        # Read in the user's input\n",
    "        string = input(\"Patient: \")\n",
    "\n",
    "        # Allow user to quit\n",
    "        if re.search(r'bye|Bye|BYE',string):\n",
    "\n",
    "            print(\"Elizalike: Well, it was nice talking to you!\\n\")\n",
    "            flag = False\n",
    "        else:\n",
    "            # if the user does not want to quit\n",
    "            # reply\n",
    "            print(reply(string))        \n",
    "\n"
   ]
  },
  {
   "cell_type": "code",
   "execution_count": null,
   "metadata": {},
   "outputs": [],
   "source": [
    "# Run ALL previous cells before running this one\n",
    "# Run this cell to start the program by calling main\n",
    "\n",
    "main()"
   ]
  },
  {
   "cell_type": "markdown",
   "metadata": {},
   "source": [
    "### You can add your test sentences by modifying this markdown cell (double click on it), or can feel free to code a testing function that goes through all your test cases, up to you."
   ]
  },
  {
   "cell_type": "code",
   "execution_count": null,
   "metadata": {},
   "outputs": [],
   "source": []
  }
 ],
 "metadata": {
  "kernelspec": {
   "display_name": "Python 3 (ipykernel)",
   "language": "python",
   "name": "python3"
  },
  "language_info": {
   "codemirror_mode": {
    "name": "ipython",
    "version": 3
   },
   "file_extension": ".py",
   "mimetype": "text/x-python",
   "name": "python",
   "nbconvert_exporter": "python",
   "pygments_lexer": "ipython3",
   "version": "3.8.10"
  }
 },
 "nbformat": 4,
 "nbformat_minor": 4
}
