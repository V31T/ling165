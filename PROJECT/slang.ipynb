{
 "cells": [
  {
   "cell_type": "code",
   "execution_count": 1,
   "metadata": {},
   "outputs": [
    {
     "name": "stderr",
     "output_type": "stream",
     "text": [
      "c:\\Users\\Henry Pham\\VSCode\\Ling 165\\.venv\\Lib\\site-packages\\tqdm\\auto.py:21: TqdmWarning: IProgress not found. Please update jupyter and ipywidgets. See https://ipywidgets.readthedocs.io/en/stable/user_install.html\n",
      "  from .autonotebook import tqdm as notebook_tqdm\n"
     ]
    }
   ],
   "source": [
    "import pandas as pd\n",
    "\n",
    "df = pd.read_csv(\"hf://datasets/MLBtrio/genz-slang-dataset/all_slangs.csv\")\n",
    "\n",
    "# df.to_csv(\"all_slangs.csv\", index=False)\n",
    "# save csv to disk"
   ]
  },
  {
   "cell_type": "markdown",
   "metadata": {},
   "source": [
    "**PREPROCESSING**"
   ]
  },
  {
   "cell_type": "code",
   "execution_count": 2,
   "metadata": {},
   "outputs": [
    {
     "data": {
      "text/html": [
       "<div>\n",
       "<style scoped>\n",
       "    .dataframe tbody tr th:only-of-type {\n",
       "        vertical-align: middle;\n",
       "    }\n",
       "\n",
       "    .dataframe tbody tr th {\n",
       "        vertical-align: top;\n",
       "    }\n",
       "\n",
       "    .dataframe thead th {\n",
       "        text-align: right;\n",
       "    }\n",
       "</style>\n",
       "<table border=\"1\" class=\"dataframe\">\n",
       "  <thead>\n",
       "    <tr style=\"text-align: right;\">\n",
       "      <th></th>\n",
       "      <th>Slang</th>\n",
       "      <th>Description</th>\n",
       "      <th>Example</th>\n",
       "      <th>Context</th>\n",
       "    </tr>\n",
       "  </thead>\n",
       "  <tbody>\n",
       "    <tr>\n",
       "      <th>0</th>\n",
       "      <td>W</td>\n",
       "      <td>Shorthand for win</td>\n",
       "      <td>Got the job today, big W!</td>\n",
       "      <td>Typically used in conversations to celebrate s...</td>\n",
       "    </tr>\n",
       "    <tr>\n",
       "      <th>1</th>\n",
       "      <td>L</td>\n",
       "      <td>Shorthand for loss/losing</td>\n",
       "      <td>I forgot my wallet at home, that’s an L.</td>\n",
       "      <td>Often used when referring to a failure or mish...</td>\n",
       "    </tr>\n",
       "    <tr>\n",
       "      <th>3</th>\n",
       "      <td>Dank</td>\n",
       "      <td>excellent or of very high quality</td>\n",
       "      <td>That meme is so dank!</td>\n",
       "      <td>Commonly used in internet slang to refer to me...</td>\n",
       "    </tr>\n",
       "    <tr>\n",
       "      <th>4</th>\n",
       "      <td>Cheugy</td>\n",
       "      <td>Derogatory term for Millennials. Used when mil...</td>\n",
       "      <td>That phrase is so cheugy, no one says that any...</td>\n",
       "      <td>Used to refer to things that were once popular...</td>\n",
       "    </tr>\n",
       "    <tr>\n",
       "      <th>5</th>\n",
       "      <td>TFW</td>\n",
       "      <td>That feeling when</td>\n",
       "      <td>TFW you finish a big project and can finally r...</td>\n",
       "      <td>Often paired with an image or caption to conve...</td>\n",
       "    </tr>\n",
       "    <tr>\n",
       "      <th>...</th>\n",
       "      <td>...</td>\n",
       "      <td>...</td>\n",
       "      <td>...</td>\n",
       "      <td>...</td>\n",
       "    </tr>\n",
       "    <tr>\n",
       "      <th>1774</th>\n",
       "      <td>ZH</td>\n",
       "      <td>Sleeping Hour</td>\n",
       "      <td>It’s ZH, goodnight!</td>\n",
       "      <td>Refers to the time when someone usually goes t...</td>\n",
       "    </tr>\n",
       "    <tr>\n",
       "      <th>1775</th>\n",
       "      <td>ZOMG</td>\n",
       "      <td>Oh My God</td>\n",
       "      <td>ZOMG, I can’t believe you did that!</td>\n",
       "      <td>An exaggerated or enthusiastic version of \"OMG...</td>\n",
       "    </tr>\n",
       "    <tr>\n",
       "      <th>1776</th>\n",
       "      <td>ZOT</td>\n",
       "      <td>Zero tolerance</td>\n",
       "      <td>Our school has a ZOT policy for bullying.</td>\n",
       "      <td>Refers to a strict policy where certain behavi...</td>\n",
       "    </tr>\n",
       "    <tr>\n",
       "      <th>1777</th>\n",
       "      <td>ZUP</td>\n",
       "      <td>What’s up?</td>\n",
       "      <td>Hey, ZUP with you today?</td>\n",
       "      <td>A casual way to ask how someone is doing or wh...</td>\n",
       "    </tr>\n",
       "    <tr>\n",
       "      <th>1778</th>\n",
       "      <td>ZZZZ</td>\n",
       "      <td>Sleeping</td>\n",
       "      <td>I was so tired, I went to bed and was out in s...</td>\n",
       "      <td>Represents sleep or someone being asleep, ofte...</td>\n",
       "    </tr>\n",
       "  </tbody>\n",
       "</table>\n",
       "<p>1486 rows × 4 columns</p>\n",
       "</div>"
      ],
      "text/plain": [
       "       Slang                                        Description  \\\n",
       "0          W                                  Shorthand for win   \n",
       "1          L                          Shorthand for loss/losing   \n",
       "3       Dank                  excellent or of very high quality   \n",
       "4     Cheugy  Derogatory term for Millennials. Used when mil...   \n",
       "5        TFW                                  That feeling when   \n",
       "...      ...                                                ...   \n",
       "1774      ZH                                      Sleeping Hour   \n",
       "1775    ZOMG                                          Oh My God   \n",
       "1776     ZOT                                     Zero tolerance   \n",
       "1777     ZUP                                         What’s up?   \n",
       "1778    ZZZZ                                           Sleeping   \n",
       "\n",
       "                                                Example  \\\n",
       "0                             Got the job today, big W!   \n",
       "1              I forgot my wallet at home, that’s an L.   \n",
       "3                                 That meme is so dank!   \n",
       "4     That phrase is so cheugy, no one says that any...   \n",
       "5     TFW you finish a big project and can finally r...   \n",
       "...                                                 ...   \n",
       "1774                                It’s ZH, goodnight!   \n",
       "1775                ZOMG, I can’t believe you did that!   \n",
       "1776          Our school has a ZOT policy for bullying.   \n",
       "1777                           Hey, ZUP with you today?   \n",
       "1778  I was so tired, I went to bed and was out in s...   \n",
       "\n",
       "                                                Context  \n",
       "0     Typically used in conversations to celebrate s...  \n",
       "1     Often used when referring to a failure or mish...  \n",
       "3     Commonly used in internet slang to refer to me...  \n",
       "4     Used to refer to things that were once popular...  \n",
       "5     Often paired with an image or caption to conve...  \n",
       "...                                                 ...  \n",
       "1774  Refers to the time when someone usually goes t...  \n",
       "1775  An exaggerated or enthusiastic version of \"OMG...  \n",
       "1776  Refers to a strict policy where certain behavi...  \n",
       "1777  A casual way to ask how someone is doing or wh...  \n",
       "1778  Represents sleep or someone being asleep, ofte...  \n",
       "\n",
       "[1486 rows x 4 columns]"
      ]
     },
     "execution_count": 2,
     "metadata": {},
     "output_type": "execute_result"
    }
   ],
   "source": [
    "import re\n",
    "\n",
    "# TODO: FILTER OUT NON LETTER ONLY WORDS BESIDES WORDS WITH '\n",
    "# Regex: matches words with only letters or letters with apostrophes (e.g., can't, y'all)\n",
    "regex = r\"^[A-Za-z]+(?:'[A-Za-z]+)?$\"\n",
    "\n",
    "#drop all rows that don't match the regex\n",
    "df = df[df['Slang'].str.match(regex)]\n",
    "# drop all rows that are empty\n",
    "df = df[df['Slang'].str.strip() != '']\n",
    "df\n",
    "\n",
    "# this is a lot of things, plus these words on their own aren't really used all together, what if i can just try to convert a gen-z slang language to english.\n",
    " "
   ]
  },
  {
   "cell_type": "code",
   "execution_count": null,
   "metadata": {},
   "outputs": [],
   "source": [
    "# TRYING TO INSTALL PYNINI TO START WORKING ON THE FST BUT KEEP RUNNING INTO ERRORS WITH THE INSTALLATION, decided to switch to using Google Collab for development"
   ]
  },
  {
   "cell_type": "code",
   "execution_count": null,
   "metadata": {},
   "outputs": [
    {
     "data": {
      "text/plain": [
       "'Bet'"
      ]
     },
     "execution_count": 11,
     "metadata": {},
     "output_type": "execute_result"
    }
   ],
   "source": [
    "# Ate, Bet, BFR, Bussin, Cap, Cheugy, Cringe, FR, IYKYK, NPC, OOMF, Shook, Simp, TBF, TFW\n",
    "slang_words = ['Ate', 'Bet', 'BFR', 'Bussin', 'Cap', 'Cheugy', 'Cringe', 'FR', 'IYKYK', 'NPC', 'OOMF', 'Shook', 'Simp', 'TBF', 'TFW']\n",
    "selected_slangs = df[df['Slang'].isin(slang_words)]\n",
    "\n",
    "# the dataset has Bussin listed as the 24th row but for some reason when running it on the dataframe, it returns Bet.\n",
    "# # grab the 24th Slang word from the dataset\n",
    "# twenty_fourth_slang = df.iloc[23]['Slang']\n",
    "# slang_words.append(twenty_fourth_slang)\n",
    "\n",
    "# For some reason Bussin has a special character appended to it, now that I'm thinking about it, \n",
    "# it is probably better to just preprocess the dataset into all lowercase but alas, I will just manually add in the row.\n",
    "bussin_row = {\n",
    "    'Slang': 'Bussin',\n",
    "    'Description': 'Used to say something is good. Primarily used to describe food',\n",
    "    'Example': \"This pizza is bussin’!\",\n",
    "    'Context': 'Primarily used to compliment delicious food, but can apply to anything impressive.'\n",
    "}\n",
    "selected_slangs = pd.concat([selected_slangs, pd.DataFrame([bussin_row])], ignore_index=True)\n",
    "\n",
    "# sort by the slang word\n",
    "selected_slangs = selected_slangs.sort_values(by='Slang')\n",
    "twenty_fourth_slang"
   ]
  },
  {
   "cell_type": "code",
   "execution_count": null,
   "metadata": {},
   "outputs": [],
   "source": []
  }
 ],
 "metadata": {
  "kernelspec": {
   "display_name": ".venv",
   "language": "python",
   "name": "python3"
  },
  "language_info": {
   "codemirror_mode": {
    "name": "ipython",
    "version": 3
   },
   "file_extension": ".py",
   "mimetype": "text/x-python",
   "name": "python",
   "nbconvert_exporter": "python",
   "pygments_lexer": "ipython3",
   "version": "3.12.1"
  }
 },
 "nbformat": 4,
 "nbformat_minor": 2
}
